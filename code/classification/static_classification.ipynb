{
 "cells": [
  {
   "cell_type": "code",
   "execution_count": null,
   "id": "f79732c0-5f0b-4e22-ae8c-744337f7b04e",
   "metadata": {},
   "outputs": [],
   "source": [
    "! pip install torch==1.12.1+cu113 torchvision==0.13.1+cu113 torchaudio==0.12.1 --extra-index-url https://download.pytorch.org/whl/cu113"
   ]
  },
  {
   "cell_type": "code",
   "execution_count": null,
   "id": "134854f3-694f-41c1-a19c-d49c1c6836b3",
   "metadata": {},
   "outputs": [],
   "source": [
    "! pip install scikit-learn"
   ]
  },
  {
   "cell_type": "code",
   "execution_count": null,
   "id": "c1ecfc3a-9972-49d2-8ad1-fe3b4fd8e9f6",
   "metadata": {},
   "outputs": [],
   "source": [
    "import glob\n",
    "import os\n",
    "import sys\n",
    "import torch\n",
    "import torchvision"
   ]
  },
  {
   "cell_type": "code",
   "execution_count": null,
   "id": "2d4b461d-6a30-471d-b040-a9963c3e1fda",
   "metadata": {},
   "outputs": [],
   "source": [
    "print('torch')\n",
    "print(torch.__version__)\n",
    "print('torchvision')\n",
    "print(torchvision.__version__)\n",
    "print('python')\n",
    "print(sys.version)"
   ]
  },
  {
   "cell_type": "markdown",
   "id": "8c7c9063-a650-4abc-9a33-4f9f7821ef5c",
   "metadata": {},
   "source": [
    "CLASSIFICATION EXPERIMENTS"
   ]
  },
  {
   "cell_type": "code",
   "execution_count": null,
   "id": "f95f584b-d55a-45a9-b93d-e3019fe1bbdc",
   "metadata": {},
   "outputs": [],
   "source": [
    "from train_models import train_resnet50\n",
    "from train_models import train_visiontransformer\n",
    "from train_models import train_convnext"
   ]
  },
  {
   "cell_type": "code",
   "execution_count": null,
   "id": "1f0cb9f4-242f-4488-8af7-39ed3bfda5cb",
   "metadata": {},
   "outputs": [],
   "source": [
    "image_folder_path = 'retail-786k_256'\n",
    "path_output = 'outputs'\n",
    "\n",
    "if not os.path.exists(path_output):\n",
    "    os.makedirs(path_output)\n",
    "\n",
    "print('image folder: ', image_folder_path)\n",
    "\n",
    "path_to_data_train = os.path.join(image_folder_path, 'train')\n",
    "path_to_data_test = os.path.join(image_folder_path, 'test')\n",
    "\n",
    "print('number of entities')\n",
    "print('train: ' + str(len(os.listdir(path_to_data_train))))\n",
    "print('test: ' + str(len(os.listdir(path_to_data_test))))"
   ]
  },
  {
   "cell_type": "code",
   "execution_count": null,
   "id": "7ad61bfd-8907-459a-bf19-821f4d89896f",
   "metadata": {},
   "outputs": [],
   "source": [
    "print('number of training images')\n",
    "print(len(glob.glob(path_to_data_train + '/**/*.jpg')))\n",
    "\n",
    "print('number of test images')\n",
    "print(len(glob.glob(path_to_data_test + '/**/*.jpg')))"
   ]
  },
  {
   "cell_type": "markdown",
   "id": "79e5fbc2-82cb-41c9-9360-606911d40dcd",
   "metadata": {},
   "source": [
    "RESNET50"
   ]
  },
  {
   "cell_type": "code",
   "execution_count": null,
   "id": "cf461a97-6a3b-4cc9-b49b-335de8b9fafe",
   "metadata": {},
   "outputs": [],
   "source": [
    "hyperparam_configuration_resnet50 = {\n",
    "    \"NUMBER_EPOCHS\": 50,\n",
    "    \"NUMBER_ENTITIES\": 3298,\n",
    "    \"LEARNING_RATE\": 0.001,\n",
    "    \"BATCH_SIZE\": 32,\n",
    "    \"PARAM_REQUIRES_GRAD\": True,\n",
    "    \"OPTIMIZER_MOMENTUM\": 0.9,\n",
    "    \"IMAGE_RESIZE_SIZE\": (256,256)\n",
    "}"
   ]
  },
  {
   "cell_type": "code",
   "execution_count": null,
   "id": "37a9d517-4848-40b5-9ae4-efcdf3283a79",
   "metadata": {},
   "outputs": [],
   "source": [
    "model = train_resnet50(path_to_data_train, path_to_data_test, path_output, hyperparam_configuration_resnet50)"
   ]
  },
  {
   "cell_type": "markdown",
   "id": "33cee1c1-368e-47f8-bc1e-91c12247959e",
   "metadata": {},
   "source": [
    "VISIONTRANSFORMER"
   ]
  },
  {
   "cell_type": "code",
   "execution_count": null,
   "id": "45846afb-4ab1-412a-bb16-3a8694eae3da",
   "metadata": {},
   "outputs": [],
   "source": [
    "hyperparam_configuration_visiontransformer = {\n",
    "    \"NUMBER_EPOCHS\": 50,\n",
    "    \"NUMBER_ENTITIES\": 3298, \n",
    "    \"LEARNING_RATE\": 0.001,\n",
    "    \"BATCH_SIZE\": 32,\n",
    "    \"PARAM_REQUIRES_GRAD\": True,\n",
    "    \"OPTIMIZER_MOMENTUM\": 0.9,\n",
    "    \"IMAGE_RESIZE_SIZE\": (224,224)\n",
    "}"
   ]
  },
  {
   "cell_type": "code",
   "execution_count": null,
   "id": "81e88338-db80-46ce-9bba-1aafdf2e93ff",
   "metadata": {},
   "outputs": [],
   "source": [
    "model = train_visiontransformer(path_to_data_train, path_to_data_test, path_output, hyperparam_configuration_visiontransformer)"
   ]
  },
  {
   "cell_type": "markdown",
   "id": "6d65e830-830b-4ce5-b787-c37f0a5f6e30",
   "metadata": {},
   "source": [
    "CONVNEXT"
   ]
  },
  {
   "cell_type": "code",
   "execution_count": null,
   "id": "f39cba87-d89f-4313-8a52-520631eff77f",
   "metadata": {},
   "outputs": [],
   "source": [
    "hyperparam_configuration_convnext = {\n",
    "    \"NUMBER_EPOCHS\": 50,\n",
    "    \"NUMBER_ENTITIES\": 3298, \n",
    "    \"LEARNING_RATE\": 0.001,\n",
    "    \"BATCH_SIZE\": 32,\n",
    "    \"PARAM_REQUIRES_GRAD\": True,\n",
    "    \"OPTIMIZER_MOMENTUM\": 0.9,\n",
    "    \"IMAGE_RESIZE_SIZE\": (224,224)\n",
    "}"
   ]
  },
  {
   "cell_type": "code",
   "execution_count": null,
   "id": "3f09e262-ab16-45b3-8d6c-5cacba8a28b0",
   "metadata": {},
   "outputs": [],
   "source": [
    "model = train_convnext(path_to_data_train, path_to_data_test, path_output, hyperparam_configuration_convnext)"
   ]
  }
 ],
 "metadata": {
  "kernelspec": {
   "display_name": "Python 3 (ipykernel)",
   "language": "python",
   "name": "python3"
  },
  "language_info": {
   "codemirror_mode": {
    "name": "ipython",
    "version": 3
   },
   "file_extension": ".py",
   "mimetype": "text/x-python",
   "name": "python",
   "nbconvert_exporter": "python",
   "pygments_lexer": "ipython3",
   "version": "3.10.6"
  }
 },
 "nbformat": 4,
 "nbformat_minor": 5
}
